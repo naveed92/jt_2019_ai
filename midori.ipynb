{
 "cells": [
  {
   "cell_type": "code",
   "execution_count": 12,
   "metadata": {},
   "outputs": [
    {
     "name": "stdout",
     "output_type": "stream",
     "text": [
      "The autoreload extension is already loaded. To reload it, use:\n",
      "  %reload_ext autoreload\n"
     ]
    }
   ],
   "source": [
    "%matplotlib inline\n",
    "import matplotlib.pyplot as plt\n",
    "fig_size = [16, 8]\n",
    "plt.rcParams[\"figure.figsize\"] = fig_size\n",
    "\n",
    "%load_ext autoreload\n",
    "%autoreload 2"
   ]
  },
  {
   "cell_type": "code",
   "execution_count": 13,
   "metadata": {},
   "outputs": [],
   "source": [
    "import random\n",
    "import googlemaps\n",
    "from datetime import datetime\n",
    "import requests\n",
    "import numpy as np\n",
    "import networkx as nx\n",
    "import math\n",
    "\n",
    "def is_way_highway(way):\n",
    "    return 'highway' in [x.attrib['k'] for x in way.findall(\"tag\")]\n",
    "\n",
    "def is_way_walkable(way):\n",
    "    walkable_attribs = ['park', 'university', 'pitch', 'place_of_worship', 'glass', 'scrub']\n",
    "    return any(flatten([[attrib in [tag.attrib['v'] for tag in way.findall(\"tag\")]] \n",
    "                for attrib in walkable_attribs]))\n",
    "\n",
    "# Haversine Distance in km between latitude and longitude pairs\n",
    "def haversine_distance(origin, destination):\n",
    "    lat1, lon1 = origin\n",
    "    lat2, lon2 = destination\n",
    "    radius = 6371  # km\n",
    "    dlat = math.radians(lat2-lat1)\n",
    "    dlon = math.radians(lon2-lon1)\n",
    "    a = math.sin(dlat/2) * math.sin(dlat/2) + math.cos(math.radians(lat1)) \\\n",
    "        * math.cos(math.radians(lat2)) * math.sin(dlon/2) * math.sin(dlon/2)\n",
    "    c = 2 * math.atan2(math.sqrt(a), math.sqrt(1-a))\n",
    "    d = radius * c\n",
    "    return d\n",
    "\n",
    "flatten = lambda l: [item for sublist in l for item in sublist]"
   ]
  },
  {
   "cell_type": "code",
   "execution_count": null,
   "metadata": {},
   "outputs": [],
   "source": []
  },
  {
   "cell_type": "code",
   "execution_count": null,
   "metadata": {},
   "outputs": [],
   "source": []
  },
  {
   "cell_type": "code",
   "execution_count": null,
   "metadata": {},
   "outputs": [],
   "source": []
  },
  {
   "cell_type": "code",
   "execution_count": 14,
   "metadata": {},
   "outputs": [],
   "source": [
    "# Data path\n",
    "sample_path = \"data/jiyugaoka.osm\"\n",
    "\n",
    "\n",
    "# Load osm data for xml preprocessing\n",
    "import xml.etree.ElementTree\n",
    "\n",
    "# Open original file\n",
    "et = xml.etree.ElementTree.parse(sample_path)\n",
    "\n",
    "e = et.getroot()\n",
    "\n",
    "# Get list of all nodes and ways\n",
    "node_list = e.findall(\"node\")\n",
    "way_list = e.findall(\"way\")\n",
    "\n",
    "# List of all tags\n",
    "way_tag_list = flatten([[tag.attrib['k'] for tag in way.findall(\"tag\")] for way in way_list])\n",
    "node_tag_list = flatten([[tag.attrib['k'] for tag in node.findall(\"tag\")] for node in node_list])"
   ]
  },
  {
   "cell_type": "code",
   "execution_count": null,
   "metadata": {},
   "outputs": [],
   "source": []
  },
  {
   "cell_type": "code",
   "execution_count": 15,
   "metadata": {},
   "outputs": [
    {
     "data": {
      "text/plain": [
       "'\\n# Remove missing way nodes (if exist)\\nn_ways = len(way_list)\\nnode_id_list = [x.attrib[\\'id\\'] for x in node_list]\\n\\nfor i, way in enumerate(way_list):\\n    print(str(i) + \"/\" + str(n_ways))\\n    for nd in list(way.iter(\\'nd\\')):\\n        if not nd.attrib[\\'ref\\'] in node_id_list:\\n            way.remove(nd)\\n            \\net.write(\"data/sample_fixed.osm\", xml_declaration=True)\\n'"
      ]
     },
     "execution_count": 15,
     "metadata": {},
     "output_type": "execute_result"
    }
   ],
   "source": [
    "\"\"\"\n",
    "# Remove missing way nodes (if exist)\n",
    "n_ways = len(way_list)\n",
    "node_id_list = [x.attrib['id'] for x in node_list]\n",
    "\n",
    "for i, way in enumerate(way_list):\n",
    "    print(str(i) + \"/\" + str(n_ways))\n",
    "    for nd in list(way.iter('nd')):\n",
    "        if not nd.attrib['ref'] in node_id_list:\n",
    "            way.remove(nd)\n",
    "            \n",
    "et.write(\"data/sample_fixed.osm\", xml_declaration=True)\n",
    "\"\"\"\n",
    "\n",
    "\n",
    "\"\"\"\n",
    "# Filter out ways that are not walkable\n",
    "for way in way_list:\n",
    "    if not is_way_highway(way) and not is_way_park(way):\n",
    "        e.remove(way)\n",
    "        print(\"removed way \" + str(way.attrib['id']))\n",
    "\n",
    "et.write(\"data/sample_fixed.osm\", xml_declaration=True)\n",
    "\"\"\"\n",
    "\n"
   ]
  },
  {
   "cell_type": "code",
   "execution_count": null,
   "metadata": {},
   "outputs": [],
   "source": []
  },
  {
   "cell_type": "code",
   "execution_count": 16,
   "metadata": {},
   "outputs": [],
   "source": [
    "# Convert to networkx graph\n",
    "\n",
    "from lib.osm2nx import read_osm\n",
    "\n",
    "# Read osm to networkx graph\n",
    "G, rtree = read_osm(sample_path)\n",
    "\n",
    "edge_iterator = iter(G.edges())\n",
    "node_iterator = iter(G.nodes())"
   ]
  },
  {
   "cell_type": "code",
   "execution_count": null,
   "metadata": {},
   "outputs": [],
   "source": []
  },
  {
   "cell_type": "code",
   "execution_count": 17,
   "metadata": {},
   "outputs": [],
   "source": [
    "# DEFAULT COST FUNCTION FOR PATHFINDING\n",
    "# Compute the shortest path between two sample nodes, using the cost function\n",
    "\n",
    "def cost_function(node_1, node_2):\n",
    "    origin_coords = (G.node[node_1]['lat'], G.node[node_1]['lon'])\n",
    "    dest_coords = (G.node[node_2]['lat'], G.node[node_2]['lon'])\n",
    "    dist =  haversine_distance(origin_coords, dest_coords)\n",
    "    return dist\n",
    "\n",
    "\n",
    "# AUGMENTED COST FUNCTION TO PREFER ALTERNATE PATHS\n",
    "# Compute the shortest path between two sample nodes, using the modified cost function\n",
    "\n",
    "def cost_function_green(node_1, node_2):\n",
    "    \n",
    "    distance_param = 0.1\n",
    "    speed_param = 0.2\n",
    "    lane_param = 0.3\n",
    "    green_param = 0.4\n",
    "    pol_param = 0.5\n",
    "    \n",
    "    origin_coords = (G.node[node_1]['lat'], G.node[node_1]['lon'])\n",
    "    dest_coords = (G.node[node_2]['lat'], G.node[node_2]['lon'])\n",
    "    dist =  haversine_distance(origin_coords, dest_coords)\n",
    "    \n",
    "    # If start and end node is same then just return distance\n",
    "    if node_1==node_2:\n",
    "        cost = dist\n",
    "        \n",
    "    # if nodes are isolated then just return distance\n",
    "    elif len(G.edges(node_1))<1 or len(G.edges(node_2))<1:\n",
    "        cost = dist\n",
    "        \n",
    "    else:\n",
    "\n",
    "        # collect edges for both nodes\n",
    "        node_1_edges = [G.get_edge_data(edge[0], edge[1]) for edge in G.edges(node_1)]\n",
    "        node_2_edges = [G.get_edge_data(edge[0], edge[1]) for edge in G.edges(node_2)]\n",
    "\n",
    "        # compute aggregates values of node based on adjacent edge parameters\n",
    "        # max of all adjacent edges is assigned to node value\n",
    "        node_1_lane_agg = np.max([float(x['lane']) for x in node_1_edges])\n",
    "        node_1_green_agg = np.max([float(x['green']) for x in node_1_edges])\n",
    "        node_1_speed_agg = np.max([float(x['speed']) for x in node_1_edges])\n",
    "        node_1_pol_agg = np.max([float(x['pol_max']) for x in node_1_edges])\n",
    "\n",
    "        # compute aggregates values of node based on adjacent edge parameters\n",
    "        # max of all adjacent edges is assigned to node value\n",
    "        node_2_lane_agg = np.max([float(x['lane']) for x in node_2_edges])\n",
    "        node_2_green_agg = np.max([float(x['green']) for x in node_2_edges])\n",
    "        node_2_speed_agg = np.max([float(x['speed']) for x in node_2_edges])\n",
    "        node_2_pol_agg = np.max([float(x['pol_max']) for x in node_2_edges])\n",
    "        \n",
    "        # Summation of start and end node attributes as taken as approximation of path values\n",
    "        lane_value = node_1_lane_agg + node_2_lane_agg\n",
    "        green_value = node_1_green_agg + node_2_green_agg\n",
    "        speed_value = node_1_speed_agg + node_2_speed_agg\n",
    "        pol_value = node_1_pol_agg + node_2_pol_agg\n",
    "        \n",
    "        # Final cost computed by regression via fixed parameters\n",
    "        cost = dist*distance_param + speed_value*speed_param + lane_value*lane_param + green_value*green_param + pol_value*pol_param\n",
    "    \n",
    "    return cost"
   ]
  },
  {
   "cell_type": "code",
   "execution_count": null,
   "metadata": {},
   "outputs": [],
   "source": []
  },
  {
   "cell_type": "code",
   "execution_count": 18,
   "metadata": {},
   "outputs": [],
   "source": [
    "# Test with two random nodes\n",
    "\n",
    "node_1 = '-258'\n",
    "node_2 = '-3835'\n",
    "\n",
    "normal_path = nx.astar_path(G, node_1, node_2, heuristic=cost_function)\n",
    "green_path = nx.astar_path(G, node_1, node_2, heuristic=cost_function_green)"
   ]
  },
  {
   "cell_type": "code",
   "execution_count": null,
   "metadata": {},
   "outputs": [],
   "source": []
  },
  {
   "cell_type": "code",
   "execution_count": 19,
   "metadata": {},
   "outputs": [],
   "source": [
    "# Data preparation for plotting\n",
    "\n",
    "path_coords = [G.node[n] for n in normal_path]\n",
    "path_coords_xy = [(x['lat'], x['lon']) for x in path_coords]\n",
    "lats, lons = zip(*path_coords_xy)\n",
    "\n",
    "# Data preparation for plotting (for green path)\n",
    "\n",
    "green_path_coords = [G.node[n] for n in green_path]\n",
    "green_path_coords_xy = [(x['lat'], x['lon']) for x in green_path_coords]\n",
    "g_lats, g_lons = zip(*green_path_coords_xy)"
   ]
  },
  {
   "cell_type": "code",
   "execution_count": null,
   "metadata": {},
   "outputs": [],
   "source": []
  },
  {
   "cell_type": "code",
   "execution_count": 25,
   "metadata": {},
   "outputs": [],
   "source": [
    "# Plot on google maps\n",
    "\n",
    "# google maps api key here\n",
    "# gmap_key = <API KEY>\n",
    "\n",
    "from gmplot import gmplot\n",
    "\n",
    "# Place map\n",
    "gmap = gmplot.GoogleMapPlotter(lats[0], lons[0], 13, apikey=gmap_key)\n",
    "\n",
    "gmap.plot(lats, lons, 'cornflowerblue', edge_width=10)\n",
    "\n",
    "gmap.plot(g_lats, g_lons, 'green', edge_width=10)\n",
    "\n",
    "# Draw\n",
    "gmap.draw(\"out/map.html\")"
   ]
  },
  {
   "cell_type": "code",
   "execution_count": null,
   "metadata": {},
   "outputs": [],
   "source": []
  },
  {
   "cell_type": "code",
   "execution_count": null,
   "metadata": {},
   "outputs": [],
   "source": []
  },
  {
   "cell_type": "code",
   "execution_count": null,
   "metadata": {},
   "outputs": [],
   "source": []
  },
  {
   "cell_type": "code",
   "execution_count": 26,
   "metadata": {},
   "outputs": [
    {
     "data": {
      "text/plain": [
       "0.02365022434441046"
      ]
     },
     "execution_count": 26,
     "metadata": {},
     "output_type": "execute_result"
    }
   ],
   "source": [
    "cost_function(node_1, node_2)"
   ]
  },
  {
   "cell_type": "code",
   "execution_count": 27,
   "metadata": {},
   "outputs": [
    {
     "data": {
      "text/plain": [
       "50.45466502243445"
      ]
     },
     "execution_count": 27,
     "metadata": {},
     "output_type": "execute_result"
    }
   ],
   "source": [
    "cost_function_green(node_1, node_2)"
   ]
  },
  {
   "cell_type": "code",
   "execution_count": null,
   "metadata": {},
   "outputs": [],
   "source": []
  },
  {
   "cell_type": "code",
   "execution_count": null,
   "metadata": {},
   "outputs": [],
   "source": [
    "# Demo\n",
    "\n",
    "import numpy as np\n",
    "from sklearn.metrics.pairwise import cosine_distances\n",
    "\n",
    "node_id_list = list(G.nodes())\n",
    "lat_lons = [G.node[i] for i in node_id_list]\n",
    "nn_vector = [(x['lat'], x['lon']) for x in lat_lons]\n",
    "\n",
    "# compute nearest node and reutrn nearest node id and latitude and longitude\n",
    "\n",
    "def get_nearest_point(lat, lon):\n",
    "    query = (lat, lon)\n",
    "    distances = [haversine_distance(query, dest_coords) for dest_coords in nn_vector]\n",
    "    nearest_id = np.argsort(distances)[0]\n",
    "    nn_id = node_id_list[nearest_id]\n",
    "    return nn_id\n",
    "\n",
    "start_lat = 35.593800\n",
    "start_lon = 139.695050\n",
    "   \n",
    "end_lat = 35.614615\n",
    "end_lon = 139.670745\n",
    "\n",
    "# Test with two random nodes\n",
    "\n",
    "start_id = get_nearest_point(float(start_lat), float(start_lon))\n",
    "end_id = get_nearest_point(float(end_lat), float(end_lon))\n",
    "\n",
    "node_1 = start_id\n",
    "node_2 = end_id\n",
    "\n",
    "normal_path = nx.astar_path(G, node_1, node_2, heuristic=cost_function)\n",
    "green_path = nx.astar_path(G, node_1, node_2, heuristic=cost_function_green)\n",
    "\n",
    "# Data preparation for plotting\n",
    "\n",
    "path_coords = [G.node[n] for n in normal_path]\n",
    "path_coords_xy = [(x['lat'], x['lon']) for x in path_coords]\n",
    "lats, lons = zip(*path_coords_xy)\n",
    "\n",
    "# Data preparation for plotting (for green path)\n",
    "\n",
    "green_path_coords = [G.node[n] for n in green_path]\n",
    "green_path_coords_xy = [(x['lat'], x['lon']) for x in green_path_coords]\n",
    "g_lats, g_lons = zip(*green_path_coords_xy)\n",
    "\n",
    "# Plot on google maps\n",
    "\n",
    "# google maps api key here\n",
    "gmap_key = ''\n",
    "\n",
    "from gmplot import gmplot\n",
    "\n",
    "# Place map\n",
    "gmap = gmplot.GoogleMapPlotter(lats[0], lons[0], 13, apikey=gmap_key)\n",
    "\n",
    "gmap.plot(lats, lons, 'cornflowerblue', edge_width=10)\n",
    "\n",
    "gmap.plot(g_lats, g_lons, 'green', edge_width=10)\n",
    "\n",
    "# Draw\n",
    "#gmap.draw(\"map.html\")\n",
    "\n",
    "out_path = \"out/output.html\"\n",
    "gmap.draw(out_path)\n",
    "print(\"Map saved to: \" + out_path)"
   ]
  },
  {
   "cell_type": "code",
   "execution_count": null,
   "metadata": {},
   "outputs": [],
   "source": []
  }
 ],
 "metadata": {
  "kernelspec": {
   "display_name": "Python 3",
   "language": "python",
   "name": "python3"
  },
  "language_info": {
   "codemirror_mode": {
    "name": "ipython",
    "version": 3
   },
   "file_extension": ".py",
   "mimetype": "text/x-python",
   "name": "python",
   "nbconvert_exporter": "python",
   "pygments_lexer": "ipython3",
   "version": "3.7.2"
  }
 },
 "nbformat": 4,
 "nbformat_minor": 2
}
